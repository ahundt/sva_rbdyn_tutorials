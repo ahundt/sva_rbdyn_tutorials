{
 "cells": [
  {
   "cell_type": "markdown",
   "metadata": {},
   "source": [
    "#SpaceVecAlg tutorial\n",
    "\n",
    "This notebook we will see a short tutorial about SpaceVecAlg python binding.\n",
    "\n",
    "The goal here is not to explain how Spatial Vector Algebra work.\n",
    "You can find a quick introduction on this [page](https://github.com/jorisv/sva_rbdyn_presentation/blob/master/presentation_release.pdf) and more complete one on [this one](http://royfeatherstone.org/spatial/).\n",
    "\n",
    "We will explain quickly how to use [Plücker transform](#Plücker-transform:-PTransformd) (PTransformd), [Motion vector](#Motion-vector:-MotionVecd) (MotionVecd), [Force vector](#Force-vector:-ForceVecd) (ForceVecd) and [Rigid Body Inertia matrix](#Rigid-Body-Inertia-:-RBInertiad) (RBInertiad).\n",
    "Also we will see how to compute [error between two transformation](#Transformation-error)."
   ]
  },
  {
   "cell_type": "markdown",
   "metadata": {},
   "source": [
    "## Plücker transform: PTransformd\n",
    "First let's display our origin Frame $ X_O $\n",
    "\n",
    "The code bellow is only used to display the results:"
   ]
  },
  {
   "cell_type": "code",
   "execution_count": 3,
   "metadata": {
    "collapsed": false,
    "scrolled": true
   },
   "outputs": [],
   "source": [
    "%gui wx\n",
    "from IPython.display import Image\n",
    "from tvtk.tools import ivtk\n",
    "from graph import Axis\n",
    "\n",
    "# create the viewer\n",
    "viewer = ivtk.viewer()\n",
    "viewer.size = (640, 480)\n",
    "\n",
    "viewer.scene.camera.focal_point = (0.175, 0.321, 0.)\n",
    "viewer.scene.camera.position = (0.175, 0.321, 3.3)\n",
    "\n",
    "display_number = 1\n",
    "def display():\n",
    "    global display_number\n",
    "    path = 'img/SpaceVecAlg/%s.png' % display_number\n",
    "    display_number += 1\n",
    "    viewer.scene.save(path)\n",
    "    return Image(path)"
   ]
  },
  {
   "cell_type": "code",
   "execution_count": 4,
   "metadata": {
    "collapsed": false
   },
   "outputs": [
    {
     "data": {
      "image/png": "[encoded data removed]",
      "text/plain": [
       "<IPython.core.display.Image object>"
      ]
     },
     "execution_count": 4,
     "metadata": {},
     "output_type": "execute_result"
    }
   ],
   "source": [
    "import numpy as np\n",
    "import eigen3 as e\n",
    "import spacevecalg as sva\n",
    "\n",
    "X_O = sva.PTransformd.Identity()\n",
    "\n",
    "# display the X_O frame with Axis\n",
    "a1 = Axis(X=X_O, text='X_O', length=0.2)\n",
    "a1.addActors(viewer.scene)\n",
    "\n",
    "display()"
   ]
  },
  {
   "cell_type": "markdown",
   "metadata": {},
   "source": [
    "Now let's add the foot frame represented by the transformation $ {}^{foot} X_O = plx(rz(\\pi) rx(-\\frac{\\pi}{2}), [0.5, -0.3, 0]^T) $ and the frame CoM (Center of Mass) represented by the transformation $ {}^{CoM} X_O = xlt([-0.2, 0.8, 0]) $"
   ]
  },
  {
   "cell_type": "code",
   "execution_count": 5,
   "metadata": {
    "collapsed": false
   },
   "outputs": [
    {
     "name": "stdout",
     "output_type": "stream",
     "text": [
      "X_O_foot translation:  0.5 -0.3    0\n",
      "X_O_foot rotation matrix:\n",
      "          -1   7.4988e-33 -1.22465e-16\n",
      "-1.22465e-16 -6.12323e-17            1\n",
      "           0            1  6.12323e-17\n"
     ]
    },
    {
     "data": {
      "image/png": "[encoded data removed]",
      "text/plain": [
       "<IPython.core.display.Image object>"
      ]
     },
     "execution_count": 5,
     "metadata": {},
     "output_type": "execute_result"
    }
   ],
   "source": [
    "X_O_foot = sva.PTransformd(sva.RotZ(np.pi)*sva.RotX(-np.pi/2.), e.Vector3d(0.5, -0.3, 0.))\n",
    "X_O_CoM = sva.PTransformd(e.Vector3d(-0.2, 0.8, 0.))\n",
    "\n",
    "print 'X_O_foot translation:', X_O_foot.translation().transpose()\n",
    "print 'X_O_foot rotation matrix:'\n",
    "print X_O_foot.rotation()\n",
    "\n",
    "aFoot = Axis(X=X_O_foot, text='X_O_foot', length=0.2)\n",
    "aCoM = Axis(X=X_O_CoM, text='X_O_CoM', length=0.2)\n",
    "\n",
    "aFoot.addActors(viewer.scene)\n",
    "aCoM.addActors(viewer.scene)\n",
    "\n",
    "display()"
   ]
  },
  {
   "cell_type": "markdown",
   "metadata": {
    "collapsed": true
   },
   "source": [
    "We can easily find the transformation between the foot and the CoM by doing the following computation $ {}^{CoM} X_{foot} = {}^{CoM} X_O {}^O X_{foot} = {}^{CoM} X_O {}^{foot} X_O^{-1} $\n",
    "\n",
    "Then we can recompute $ {}^{CoM} X_O = {}^{CoM} X_{foot} {}^{foot} X_O $"
   ]
  },
  {
   "cell_type": "code",
   "execution_count": 6,
   "metadata": {
    "collapsed": false
   },
   "outputs": [
    {
     "name": "stdout",
     "output_type": "stream",
     "text": [
      "Error must be near 0: 7.85046229342e-17\n"
     ]
    },
    {
     "data": {
      "image/png": "[encoded data removed]",
      "text/plain": [
       "<IPython.core.display.Image object>"
      ]
     },
     "execution_count": 6,
     "metadata": {},
     "output_type": "execute_result"
    }
   ],
   "source": [
    "X_foot_CoM = X_O_CoM*X_O_foot.inv()\n",
    "X_O_CoM_prime = X_foot_CoM*X_O_foot\n",
    "\n",
    "print 'Error must be near 0:', (X_O_CoM_prime.matrix() - X_O_CoM.matrix()).norm()\n",
    "\n",
    "# recreate the Axis marker from X_O_CoM_prime\n",
    "aCoM.removeActors(viewer.scene)\n",
    "aCoMP = Axis(X=X_O_CoM, text='X_O_CoM_prime', length=0.2)\n",
    "aCoMP.addActors(viewer.scene)\n",
    "\n",
    "display()"
   ]
  },
  {
   "cell_type": "markdown",
   "metadata": {},
   "source": [
    "Now, we know how to transform frame. In the next section we will see how to manipulate Motion vector that can represent error, velocity, acceleration, jerk and all velocity time derivative."
   ]
  },
  {
   "cell_type": "markdown",
   "metadata": {},
   "source": [
    "## Motion vector: MotionVecd\n",
    "\n",
    "We commonly use Motion vector ($\\hat{m}$) to represent a velocity $\\hat{v}$ and an acceleration $\\hat{a}$.\n",
    "All those vector must of course be attached to a frame.\n",
    "\n",
    "Let's display one linear velocity vector $ \\hat{v}_l $ and a pure angular velocity vector $ \\hat{v}_a $ both attached to the $ X_O $ frame."
   ]
  },
  {
   "cell_type": "code",
   "execution_count": 7,
   "metadata": {
    "collapsed": false
   },
   "outputs": [
    {
     "name": "stdout",
     "output_type": "stream",
     "text": [
      "linear velocity: 0.2 0.2   0\n",
      "angular velocity: -0.4 0 0\n"
     ]
    },
    {
     "data": {
      "image/png": "[encoded data removed]",
      "text/plain": [
       "<IPython.core.display.Image object>"
      ]
     },
     "execution_count": 7,
     "metadata": {},
     "output_type": "execute_result"
    }
   ],
   "source": [
    "from graph import MotionVecViz\n",
    "\n",
    "V_l = sva.MotionVecd(e.Vector3d.Zero(), e.Vector3d(0.2, 0.2, 0.))\n",
    "V_a = sva.MotionVecd(e.Vector3d(-0.4, 0., 0.), e.Vector3d.Zero())\n",
    "\n",
    "print 'linear velocity:', V_l.linear().transpose()\n",
    "print 'angular velocity:', V_a.angular().transpose()\n",
    "\n",
    "vizV_l = MotionVecViz(V_l, X_O) # first argument is the MotionVecd, second one is the associated PTransformd\n",
    "vizV_a = MotionVecViz(V_a, X_O)\n",
    "\n",
    "vizV_l.addActors(viewer.scene)\n",
    "vizV_a.addActors(viewer.scene)\n",
    "display()"
   ]
  },
  {
   "cell_type": "markdown",
   "metadata": {},
   "source": [
    "The linear velocity is represented by a blue vector while the rotational velocity is represented by a magenta vector with a circle around.\n",
    "\n",
    "Motion vector are additive so we can make the following operation $ \\hat{v}_O = \\hat{v}_l + \\hat{v}_a $."
   ]
  },
  {
   "cell_type": "code",
   "execution_count": 8,
   "metadata": {
    "collapsed": false
   },
   "outputs": [
    {
     "name": "stdout",
     "output_type": "stream",
     "text": [
      "linear velocity: 0.2 0.2   0\n",
      "angular velocity: -0.4 0 0\n"
     ]
    },
    {
     "data": {
      "image/png": "[encoded data removed]",
      "text/plain": [
       "<IPython.core.display.Image object>"
      ]
     },
     "execution_count": 8,
     "metadata": {},
     "output_type": "execute_result"
    }
   ],
   "source": [
    "V_O = V_l + V_a\n",
    "print 'linear velocity:', V_O.linear().transpose()\n",
    "print 'angular velocity:', V_O.angular().transpose()\n",
    "\n",
    "vizV_O = MotionVecViz(V_O, X_O)\n",
    "\n",
    "vizV_l.removeActors(viewer.scene)\n",
    "vizV_a.removeActors(viewer.scene)\n",
    "vizV_O.addActors(viewer.scene)\n",
    "display()"
   ]
  },
  {
   "cell_type": "markdown",
   "metadata": {},
   "source": [
    "Now let's assume that the $ X_O $ frame is rigidly attached to the $ {}^{CoM} X_O $ frame.\n",
    "We can compute the velocity induce by $ \\hat{v}_O $ to the CoM $ \\hat{v}_{CoM} $ by the following computation\n",
    "$ \\hat{v}_{CoM} = {}^{CoM} X_O \\hat{v}_O $.\n",
    "\n",
    "We can also do the reverse with the following computation $ \\hat{v}_O = {}^O X_{CoM} \\hat{v}_{CoM} = {}^{CoM} X_O^{-1} \\hat{v}_{CoM} $"
   ]
  },
  {
   "cell_type": "code",
   "execution_count": 9,
   "metadata": {
    "collapsed": false
   },
   "outputs": [
    {
     "name": "stdout",
     "output_type": "stream",
     "text": [
      "Error must be near 0: 0.0\n"
     ]
    },
    {
     "data": {
      "image/png": "[encoded data removed]",
      "text/plain": [
       "<IPython.core.display.Image object>"
      ]
     },
     "execution_count": 9,
     "metadata": {},
     "output_type": "execute_result"
    }
   ],
   "source": [
    "V_CoM = X_O_CoM*V_O\n",
    "V_O_prime = X_O_CoM.invMul(V_CoM)\n",
    "\n",
    "print 'Error must be near 0:', (V_O_prime - V_O).vector().norm()\n",
    "\n",
    "vizV_CoM = MotionVecViz(V_CoM, X_O_CoM)\n",
    "\n",
    "vizV_CoM.addActors(viewer.scene)\n",
    "display()"
   ]
  },
  {
   "cell_type": "markdown",
   "metadata": {},
   "source": [
    "You can see that the linear component of $ \\hat{v}_{CoM} $ is not the same than $ \\hat{v}_O $. The reason is the linear velocity is dependant of the angular velocity and the translation in $ {}^{CoM} X_O $.\n",
    "\n",
    "It's also possible to only change the orientation of a Motion vector by applying a pure rotation on it."
   ]
  },
  {
   "cell_type": "code",
   "execution_count": 10,
   "metadata": {
    "collapsed": false
   },
   "outputs": [
    {
     "data": {
      "image/png": "[encoded data removed]",
      "text/plain": [
       "<IPython.core.display.Image object>"
      ]
     },
     "execution_count": 10,
     "metadata": {},
     "output_type": "execute_result"
    }
   ],
   "source": [
    "V_O_foot = sva.PTransformd(X_O_foot.rotation())*V_O # just keep the rotational part of the PTransformd\n",
    "\n",
    "vizV_O.removeActors(viewer.scene)\n",
    "vizV_CoM.removeActors(viewer.scene)\n",
    "\n",
    "# vizV_O_foot is the velocity V_O at X_O in the orientation of X_O_foot\n",
    "vizV_O_foot = MotionVecViz(V_O_foot, X_O)\n",
    "# vizV_O is the V_O velocity in X_O_foot frame\n",
    "vizV_O = MotionVecViz(V_O, X_O_foot)\n",
    "\n",
    "vizV_O_foot.addActors(viewer.scene)\n",
    "vizV_O.addActors(viewer.scene)\n",
    "img = display()\n",
    "\n",
    "vizV_O_foot.removeActors(viewer.scene)\n",
    "vizV_O.removeActors(viewer.scene)\n",
    "img"
   ]
  },
  {
   "cell_type": "markdown",
   "metadata": {},
   "source": [
    "## Force vector: ForceVecd\n",
    "\n",
    "We commonly use Force vector to represent a force $\\hat{f}$ and a momentum $\\hat{h}$.\n",
    "Like Motion vector, Force vector must be attached to a frame.\n",
    "\n",
    "This tutorial part will be really similar of the Motion vector part since Force vector and Motion vector use are really similar.\n",
    "We will display a pure force vector $ \\hat{f}_f $ and a pure torque vector $ \\hat{f}_t $ attached to the $ {}^{foot} X_O $ frame."
   ]
  },
  {
   "cell_type": "code",
   "execution_count": 11,
   "metadata": {
    "collapsed": false
   },
   "outputs": [
    {
     "name": "stdout",
     "output_type": "stream",
     "text": [
      "force: 0.1   0 0.4\n",
      "torque: -0.2 0 0\n"
     ]
    },
    {
     "data": {
      "image/png": "[encoded data removed]",
      "text/plain": [
       "<IPython.core.display.Image object>"
      ]
     },
     "execution_count": 11,
     "metadata": {},
     "output_type": "execute_result"
    }
   ],
   "source": [
    "from graph import ForceVecViz\n",
    "\n",
    "F_f = sva.ForceVecd(e.Vector3d.Zero(), e.Vector3d(0.1, 0., 0.4))\n",
    "F_t = sva.ForceVecd(e.Vector3d(-0.2, 0., 0.), e.Vector3d.Zero())\n",
    "\n",
    "print 'force:', F_f.force().transpose()\n",
    "print 'torque:', F_t.couple().transpose()\n",
    "\n",
    "vizF_f = ForceVecViz(F_f, X_O_foot) # first argument is the ForceVecd, second one is the associated PTransformd\n",
    "vizF_t = ForceVecViz(F_t, X_O_foot)\n",
    "\n",
    "vizF_f.addActors(viewer.scene)\n",
    "vizF_t.addActors(viewer.scene)\n",
    "display()"
   ]
  },
  {
   "cell_type": "markdown",
   "metadata": {},
   "source": [
    "The force is represented by a red vector while the torque is represented by a yellow vector with a circle around.\n",
    "\n",
    "Like Motion vector Force vector are additive so we can make the following operation $ \\hat{f}_{foot} = \\hat{f}_f + \\hat{f}_t $."
   ]
  },
  {
   "cell_type": "code",
   "execution_count": 12,
   "metadata": {
    "collapsed": false
   },
   "outputs": [
    {
     "name": "stdout",
     "output_type": "stream",
     "text": [
      "force: 0.1   0 0.4\n",
      "torque: -0.2 0 0\n"
     ]
    },
    {
     "data": {
      "image/png": "[encoded data removed]",
      "text/plain": [
       "<IPython.core.display.Image object>"
      ]
     },
     "execution_count": 12,
     "metadata": {},
     "output_type": "execute_result"
    }
   ],
   "source": [
    "F_foot = F_f + F_t\n",
    "\n",
    "print 'force:', F_foot.force().transpose()\n",
    "print 'torque:', F_foot.couple().transpose()\n",
    "\n",
    "vizF_foot = ForceVecViz(F_foot, X_O_foot)\n",
    "\n",
    "vizF_f.removeActors(viewer.scene)\n",
    "vizF_t.removeActors(viewer.scene)\n",
    "vizF_foot.addActors(viewer.scene)\n",
    "display()"
   ]
  },
  {
   "cell_type": "markdown",
   "metadata": {},
   "source": [
    "By assuming the $ {}^{foot} X_O $ frame and the $ {}^{CoM} X_O $ are rigidly attached we can compute the force applied\n",
    "on the $CoM$ induced by the force applied on the foot $ \\hat{f}_{CoM} = {}^{CoM} X_{foot}^* \\hat{f}_{foot} $.\n",
    "To use a Plücker transform against a Force vector we must use the dual form $ X^* $ and to apply the inverse transformation we must use the transpose of the Plücker transform $ X^T $.\n",
    "\n",
    "The reverse of this computation is then $ \\hat{f}_{foot} = {}^{foot} X_{CoM} \\hat{f}_{CoM} = {}^{foot} X_{CoM}^{T} \\hat{f}_{CoM} $."
   ]
  },
  {
   "cell_type": "code",
   "execution_count": 13,
   "metadata": {
    "collapsed": false
   },
   "outputs": [
    {
     "name": "stdout",
     "output_type": "stream",
     "text": [
      "Error must be near 0: 3.85185988877e-34\n"
     ]
    },
    {
     "data": {
      "image/png": "[encoded data removed]",
      "text/plain": [
       "<IPython.core.display.Image object>"
      ]
     },
     "execution_count": 13,
     "metadata": {},
     "output_type": "execute_result"
    }
   ],
   "source": [
    "X_foot_CoM = X_O_CoM*X_O_foot.inv()\n",
    "\n",
    "F_CoM = X_foot_CoM.dualMul(F_foot)\n",
    "F_foot_prime = X_foot_CoM.transMul(F_CoM)\n",
    "\n",
    "print 'Error must be near 0:', (F_foot_prime - F_foot).vector().norm()\n",
    "\n",
    "vizF_CoM = ForceVecViz(F_CoM, X_O_CoM)\n",
    "\n",
    "vizF_CoM.addActors(viewer.scene)\n",
    "display()"
   ]
  },
  {
   "cell_type": "markdown",
   "metadata": {},
   "source": [
    "The torque component of $ \\hat{f}_{CoM} $ is not the same than $ \\hat{f}_{foot} $. The reason is the torque is dependant of the force and the translation in $ {}^{CoM} X_{foot} $.\n",
    "\n",
    "Like Motion vector it's possible to only change the orientation of a Force vector by applying a pure rotation on it."
   ]
  },
  {
   "cell_type": "code",
   "execution_count": 14,
   "metadata": {
    "collapsed": false
   },
   "outputs": [
    {
     "data": {
      "image/png": "[encoded data removed]",
      "text/plain": [
       "<IPython.core.display.Image object>"
      ]
     },
     "execution_count": 14,
     "metadata": {},
     "output_type": "execute_result"
    }
   ],
   "source": [
    "F_foot_O = sva.PTransformd(X_O_foot.rotation()).dualMul(F_foot) # just keep the rotational part of the PTransformd\n",
    "\n",
    "vizF_foot.removeActors(viewer.scene)\n",
    "vizF_CoM.removeActors(viewer.scene)\n",
    "\n",
    "# vizF_O_foot is the force F_foot at X_O_foot in the orientation of X_O\n",
    "vizF_O_foot = ForceVecViz(F_foot_O, X_O_foot)\n",
    "# vizF_O is F_foot in X_O frame\n",
    "vizF_O = ForceVecViz(F_foot, X_O)\n",
    "\n",
    "vizF_O_foot.addActors(viewer.scene)\n",
    "vizF_O.addActors(viewer.scene)\n",
    "img = display()\n",
    "\n",
    "vizF_O_foot.removeActors(viewer.scene)\n",
    "vizF_O.removeActors(viewer.scene)\n",
    "img"
   ]
  },
  {
   "cell_type": "markdown",
   "metadata": {},
   "source": [
    "In the next section we will see that we can apply the same transformation on a Rigid Body Inertia matrix."
   ]
  },
  {
   "cell_type": "markdown",
   "metadata": {},
   "source": [
    "### Rigid Body Inertia : RBInertiad\n",
    "\n",
    "Rigide Body Inertia $\\hat{I}$ contain inertial parameter of a body :\n",
    " * mass $m$\n",
    " * center of mass $c$\n",
    " * rotational inertia matrix at the origin of a body $I$\n",
    "\n",
    "The constructor of the RBInertiad matrix take the first moment of mass $ h = mc $ as argument.\n",
    "\n",
    "Beware that the rotational inertia matrix $I$ must be expressed at the origin of the body.\n",
    "A lot of library or file use a rotational inertia matrix expressed at the body center of mass frame $I_c$.\n",
    "SpaceVecAlg provide a usefull function to make this transformation easily\n",
    "```python\n",
    "I = sva.inertiaToOrigin(I_c, m, c, Matrix3d.Identity())\n",
    "```\n",
    "\n",
    "Like for a Motion vector and a Force vector we can apply a Plücker transform to an Rigid Body Inertia matrix:\n",
    "$$ \\hat{I}^{CoM}_{foot} = {}^{CoM} X^*_{foot} \\hat{I}_{foot} {}^{CoM} X^{-1}_{foot} $$\n",
    "And also the inverse transformation:\n",
    "$$ \\hat{I}_{foot} = {}^{CoM} X^T_{foot} \\hat{I}^{CoM}_{foot} {}^{CoM} X_{foot} $$\n",
    "\n",
    "Rigid Body Inertia matrix are also additive, so we can easily merge inertia of two bodies:\n",
    "$$\n",
    "\\hat{I}^{c}_{CoM} = \\hat{I}_{CoM} + \\hat{I}^{CoM}_{foot}\n",
    "$$"
   ]
  },
  {
   "cell_type": "code",
   "execution_count": 15,
   "metadata": {
    "collapsed": false
   },
   "outputs": [
    {
     "name": "stdout",
     "output_type": "stream",
     "text": [
      "Error must be near 0: 1.15417398787e-15\n",
      "\n",
      "mass: 14.0\n",
      "center of mass: 0.00714286 -0.0142857 0.00142857\n",
      "inertia:\n",
      "2.1616   0.08 -0.008\n",
      "  0.08 2.0416  0.016\n",
      "-0.008  0.016    2.2\n"
     ]
    }
   ],
   "source": [
    "m = 4.# mass\n",
    "c = e.Vector3d(0.1, -0.2, 0.02) # center of mass\n",
    "h = m*c # first moment of mass\n",
    "I_foot_c = e.Matrix3d.Identity() # rotational inertia at center of mass\n",
    "I_foot = sva.inertiaToOrigin(I_foot_c, m, c, e.Matrix3d.Identity()) # rotational inertia at body base\n",
    "\n",
    "# create the Rigid Body Inertia of the foot body\n",
    "RBI_foot = sva.RBInertiad(m, c, I_foot)\n",
    "\n",
    "# transform foot inertia in the CoM frame and do the reverse\n",
    "RBI_foot_CoM = X_foot_CoM.dualMul(RBI_foot)\n",
    "RBI_foot_prime = X_foot_CoM.transMul(RBI_foot_CoM)\n",
    "\n",
    "print 'Error must be near 0:', (RBI_foot - RBI_foot_prime).matrix().norm()\n",
    "print\n",
    "\n",
    "RBI_CoM = sva.RBInertiad(10., e.Vector3d.Zero(), e.Matrix3d.Identity())\n",
    "\n",
    "RBI_CoM_c = RBI_CoM + RBI_foot\n",
    "print 'mass:', RBI_CoM_c.mass()\n",
    "print 'center of mass:', (RBI_CoM_c.momentum()/RBI_CoM_c.mass()).transpose()\n",
    "print 'inertia:'\n",
    "print RBI_CoM_c.inertia()"
   ]
  },
  {
   "cell_type": "markdown",
   "metadata": {},
   "source": [
    "## Transformation error\n",
    "\n",
    "To compute an error between two frame we can use the `sva::transformError(X_a_b, X_a_c)` function that take two `sva::PTransformd` and return a `sva::MotionVecd` that contain the translation error in the linear part and the angular error compute by logarithmic matrix on the angular part. The error is expressed in the $a$ frame.\n",
    "\n",
    "The method `sva::transformVelocity(X_a_b)` transform a `sva::PTransformd` matrix into a `sva::MotionVecd` in the $a$ frame. This function is an equivalent of the $ XtoV $ method.\n",
    "\n",
    "We can turn `Err_b_c = sva::transformVelocity(X_b_c)` into `Err_b_c_a = sva::transformError(X_a_b, X_a_c)` by applying a pure rotation $ {}^a E_b $ on the result."
   ]
  },
  {
   "cell_type": "code",
   "execution_count": 16,
   "metadata": {
    "collapsed": false
   },
   "outputs": [
    {
     "name": "stdout",
     "output_type": "stream",
     "text": [
      "error between foot and CoM frame in O frame\n",
      "translation error       -0.7        1.1 1.2326e-32\n",
      "orientation error 1.92367e-16 -1.5708 -1.5708\n",
      "\n",
      "error between foot and CoM frame in foot frame\n",
      "translation error         0.7 1.83697e-17         1.1\n",
      "orientation error       0 -1.5708 -1.5708\n",
      "\n",
      "We can compute the Err_foot_CoM_O error from Err_foot_CoM by applying a pure rotation from foot to O\n",
      "translation error       -0.7        1.1 1.2326e-32\n",
      "orientation error 1.92367e-16 -1.5708 -1.5708\n"
     ]
    }
   ],
   "source": [
    "Err_foot_CoM_O = sva.transformError(X_O_foot, X_O_CoM)\n",
    "print 'error between foot and CoM frame in O frame'\n",
    "print 'translation error', Err_foot_CoM_O.linear().transpose()\n",
    "print 'orientation error', Err_foot_CoM_O.angular().transpose()\n",
    "print\n",
    "\n",
    "Err_foot_CoM = sva.transformVelocity(X_foot_CoM)\n",
    "print 'error between foot and CoM frame in foot frame'\n",
    "print 'translation error', Err_foot_CoM.linear().transpose()\n",
    "print 'orientation error', Err_foot_CoM.angular().transpose()\n",
    "print\n",
    "\n",
    "Err_foot_CoM_O_prime = sva.PTransformd(X_O_foot.rotation()).invMul(Err_foot_CoM)\n",
    "print 'We can compute the Err_foot_CoM_O error from Err_foot_CoM by applying a pure rotation from foot to O'\n",
    "print 'translation error', Err_foot_CoM_O_prime.linear().transpose()\n",
    "print 'orientation error', Err_foot_CoM_O_prime.angular().transpose()"
   ]
  }
 ],
 "metadata": {
  "kernelspec": {
   "display_name": "Python 2",
   "language": "python",
   "name": "python2"
  },
  "language_info": {
   "codemirror_mode": {
    "name": "ipython",
    "version": 2
   },
   "file_extension": ".py",
   "mimetype": "text/x-python",
   "name": "python",
   "nbconvert_exporter": "python",
   "pygments_lexer": "ipython2",
   "version": "2.7.6"
  }
 },
 "nbformat": 4,
 "nbformat_minor": 0
}
